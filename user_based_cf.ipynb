{
 "cells": [
  {
   "cell_type": "markdown",
   "metadata": {},
   "source": [
    "## Correlation analysis : 상관분석\n",
    "아래 그림과 같이 두 변인 x,y에 대해 x가 변화할때 y가 변화되면 x,y는 상관관계에 있다고 한다."
   ]
  },
  {
   "cell_type": "markdown",
   "metadata": {},
   "source": [
    "![title](img/correlation_analysis.png)"
   ]
  },
  {
   "cell_type": "code",
   "execution_count": 1,
   "metadata": {
    "collapsed": true
   },
   "outputs": [],
   "source": [
    "critics = {\n",
    "    'A': {\n",
    "        'Taxi Driver': 2.5,\n",
    "        'South Castle': 3.5,\n",
    "        'King''s man': 3.0,\n",
    "        'Crime City': 3.5,\n",
    "        'I can speak': 2.5,\n",
    "        'The Night Listener': 3.0,\n",
    "    },\n",
    "    'B': {\n",
    "        'Taxi Driver': 1.0,\n",
    "        'South Castle': 4.5,\n",
    "        'King''s man': 0.5,\n",
    "        'Crime City': 1.5,\n",
    "        'I can speak': 4.5,\n",
    "        'The Night Listener': 5.0,\n",
    "    },\n",
    "    'C': {\n",
    "        'Taxi Driver': 3.0,\n",
    "        'South Castle': 3.5,\n",
    "        'King''s man': 1.5,\n",
    "        'Crime City': 5.0,\n",
    "        'The Night Listener': 3.0,\n",
    "        'I can speak': 3.5,\n",
    "    },\n",
    "    'D': {\n",
    "        'Taxi Driver': 2.5,\n",
    "        'South Castle': 3.0,\n",
    "        'Crime City': 3.5,\n",
    "        'The Night Listener': 4.0,\n",
    "    },\n",
    "    'E': {\n",
    "        'South Castle': 3.5,\n",
    "        'King''s man': 3.0,\n",
    "        'The Night Listener': 4.5,\n",
    "        'Crime City': 4.0,\n",
    "        'I can speak': 2.5,\n",
    "    },\n",
    "    'F': {\n",
    "        'Taxi Driver': 3.0,\n",
    "        'South Castle': 4.0,\n",
    "        'King''s man': 2.0,\n",
    "        'Crime City': 3.0,\n",
    "        'The Night Listener': 3.5,\n",
    "        'I can speak': 2.0,\n",
    "    },\n",
    "    'G': {\n",
    "        'Taxi Driver': 3.0,\n",
    "        'South Castle': 4.0,\n",
    "        'The Night Listener': 3.0,\n",
    "        'Crime City': 5.0,\n",
    "        'I can speak': 3.5,\n",
    "    },\n",
    "    'H': {\n",
    "        'South Castle': 4.5, \n",
    "        'I can speak': 1.0,\n",
    "        'Crime City': 4.0\n",
    "    },\n",
    "}\n"
   ]
  },
  {
   "cell_type": "code",
   "execution_count": 2,
   "metadata": {
    "collapsed": true
   },
   "outputs": [],
   "source": [
    "# critics data 이용해 scatter plot 그리기\n",
    "import matplotlib.pyplot as plt\n",
    "def drawGraph(data, name1, name2):\n",
    "    plt.figure(figsize=(14,8)) # plot 크기설정\n",
    "    \n",
    "    # plot 좌표를 위한 list 선언\n",
    "    li = []\n",
    "    li2 = []\n",
    "    \n",
    "    for i in critics[name1]: # i = 키 값\n",
    "        if i in data[name2]: # 같은 영화를 평가했을때만\n",
    "            li.append(critics[name1][i]) # name1의 평점 li[]에 추가\n",
    "            li2.append(critics[name2][i]) # name2의 평점 li2[]에 추가\n",
    "            plt.text(critics[name1][i],critics[name2][i],i) # 영화 제목 text 찍기\n",
    "            \n",
    "    plt.plot(li,li2,'ro') #plot그리기\n",
    "    \n",
    "    #각 축의 크기 설정 (0에서 6까지)\n",
    "    plt.axis([0,6,0,6])\n",
    " \n",
    "    # x축과 y축 이름 설정\n",
    "    plt.xlabel(name1)\n",
    "    plt.ylabel(name2)\n",
    " \n",
    "    # 그리기\n",
    "    plt.show()"
   ]
  },
  {
   "cell_type": "code",
   "execution_count": 3,
   "metadata": {},
   "outputs": [
    {
     "data": {
      "image/png": "[encoded data removed]",
      "text/plain": [
       "<matplotlib.figure.Figure at 0x10ccac710>"
      ]
     },
     "metadata": {},
     "output_type": "display_data"
    }
   ],
   "source": [
    "drawGraph(critics,'B','F')"
   ]
  },
  {
   "cell_type": "code",
   "execution_count": 4,
   "metadata": {},
   "outputs": [
    {
     "data": {
      "image/png": "[encoded data removed]",
      "text/plain": [
       "<matplotlib.figure.Figure at 0x10e49e160>"
      ]
     },
     "metadata": {},
     "output_type": "display_data"
    }
   ],
   "source": [
    "drawGraph(critics,'G','A')"
   ]
  },
  {
   "cell_type": "markdown",
   "metadata": {},
   "source": [
    "## 피어슨 상관계수\n",
    "피어슨 상관계수는 값이 -1부터 1까지 도출되며, 1에 가까울수록 양의 상관관계, -1에 가까울수록 음의 상관관계를 가진다."
   ]
  },
  {
   "cell_type": "markdown",
   "metadata": {},
   "source": [
    "![title](img/pearson.png)"
   ]
  },
  {
   "cell_type": "code",
   "execution_count": 5,
   "metadata": {
    "collapsed": true
   },
   "outputs": [],
   "source": [
    "# 피어슨 상관계수 구하기\n",
    "from math import sqrt\n",
    "\n",
    "def sim_pearson(data, name1, name2):\n",
    "    sumX=0 # X의 합\n",
    "    sumY=0 # Y의 합\n",
    "    sumPowX=0 # X 제곱의 합\n",
    "    sumPowY=0 # Y 제곱의 합\n",
    "    sumXY=0 # X*Y의 합\n",
    "    count=0 #영화 개수\n",
    "    \n",
    "    for i in data[name1]: # i = key\n",
    "        if i in data[name2]: # 같은 영화를 평가했을때만\n",
    "            sumX+=data[name1][i]\n",
    "            sumY+=data[name2][i]\n",
    "            sumPowX+=pow(data[name1][i],2)\n",
    "            sumPowY+=pow(data[name2][i],2)\n",
    "            sumXY+=data[name1][i]*data[name2][i]\n",
    "            count+=1\n",
    "    \n",
    "    return ( sumXY- ((sumX*sumY)/count) )/ sqrt( (sumPowX - (pow(sumX,2) / count)) * (sumPowY - (pow(sumY,2)/count)))"
   ]
  },
  {
   "cell_type": "code",
   "execution_count": 6,
   "metadata": {},
   "outputs": [
    {
     "data": {
      "text/plain": [
       "0.41791069697885247"
      ]
     },
     "execution_count": 6,
     "metadata": {},
     "output_type": "execute_result"
    }
   ],
   "source": [
    "sim_pearson(critics,'B','F')"
   ]
  },
  {
   "cell_type": "code",
   "execution_count": 7,
   "metadata": {},
   "outputs": [
    {
     "data": {
      "text/plain": [
       "0.7470178808339965"
      ]
     },
     "execution_count": 7,
     "metadata": {},
     "output_type": "execute_result"
    }
   ],
   "source": [
    "sim_pearson(critics,'G','A')"
   ]
  },
  {
   "cell_type": "code",
   "execution_count": 8,
   "metadata": {
    "collapsed": true
   },
   "outputs": [],
   "source": [
    "def top_match(data, name, index=3, sim_function=sim_pearson):\n",
    "    li=[]\n",
    "    for i in data: #딕셔너리를 돌고\n",
    "        if name!=i: #자기 자신이 아닐때만\n",
    "            li.append((sim_function(data,name,i),i)) #sim_function()을 통해 상관계수를 구하고 li[]에 추가\n",
    "    li.sort() #오름차순\n",
    "    li.reverse() #내림차순\n",
    "    return li[:index]"
   ]
  },
  {
   "cell_type": "code",
   "execution_count": 9,
   "metadata": {},
   "outputs": [
    {
     "data": {
      "text/plain": [
       "[(0.9912407071619299, 'A'),\n",
       " (0.9244734516419049, 'F'),\n",
       " (0.8934051474415647, 'E'),\n",
       " (0.66284898035987, 'G'),\n",
       " (0.38124642583151164, 'C'),\n",
       " (-0.38124642583151164, 'B')]"
      ]
     },
     "execution_count": 9,
     "metadata": {},
     "output_type": "execute_result"
    }
   ],
   "source": [
    "top_match(critics, 'H', 6)"
   ]
  },
  {
   "cell_type": "markdown",
   "metadata": {},
   "source": [
    "## 예상평점 구하기\n",
    "\n",
    "### 조건\n",
    "1. 아직 대상이 평가를 내리지 않은 영화\n",
    "2. 유사도의 값을 근거로 하되 일정 기준을 충족하는 사람이라면 모두 예상평점과 추천영화를 구하는 데 참고\n",
    "\n",
    "### 과정\n",
    "1. 대상을 제외한 모든 사람들의 영화 평점과 유사도를 통해 추측평점((유사도 x (타인의)영화평점)을 구한다. 예를 들어 'A'유저가 'Taxi Driver'에 2.5점을 줬다면, 'H'유저는 'A'유저와 99%의 유사도를 가지고 있으므로 2.47점을 줄 것이라고 추측한다.\n",
    "2. 그 추측평점들의 총합을 구한다.\n",
    "3. 추측평점 총합계/유사도 합계를 통해 모든 사람을 근거로 한 예상평점을 뽑아낼 수 있다.\n",
    "4. 이 예상평점 값을 보지 않은 영화를 대상으로 모두 구해서 아직 보지 않은 영화중 예상평점이 가장 높은 영화를 추천해주면 될 것이다. "
   ]
  },
  {
   "cell_type": "code",
   "execution_count": 10,
   "metadata": {
    "collapsed": true
   },
   "outputs": [],
   "source": [
    "def getRecommendation (data,person,sim_function=sim_pearson):\n",
    "    result = top_match(critics, person ,len(data))\n",
    "    \n",
    "    simSum=0 # 유사도 합을 위한 변수\n",
    "    score=0 # 평점 합을 위한 변수\n",
    "    li=[] # 리턴을 위한 리스트\n",
    "    score_dic={} # 유사도 총합을 위한 dic\n",
    "    sim_dic={} # 평점 총합을 위한 dic\n",
    " \n",
    "    for sim,name in result: # 튜플이므로 한번에 \n",
    "        if sim<0 : continue #유사도가 양수인 사람만\n",
    "        for movie in data[name]: \n",
    "            if movie not in data[person]: #name이 평가를 내리지 않은 영화\n",
    "                score+=sim*data[name][movie] # 그사람의 영화평점 * 유사도\n",
    "                score_dic.setdefault(movie,0) # 기본값 설정\n",
    "                score_dic[movie]+=score # 합계 구함\n",
    " \n",
    "                # 조건에 맞는 사람의 유사도의 누적합을 구한다\n",
    "                sim_dic.setdefault(movie,0) \n",
    "                sim_dic[movie]+=sim\n",
    " \n",
    "            score=0  #영화가 바뀌었으니 초기화한다\n",
    "    \n",
    "    for key in score_dic: \n",
    "        score_dic[key]=score_dic[key]/sim_dic[key] # 평점 총합/ 유사도 총합\n",
    "        li.append((score_dic[key],key)) # list((tuple))의 리턴을 위해서.\n",
    "    li.sort() #오름차순\n",
    "    li.reverse() #내림차순\n",
    "    return li"
   ]
  },
  {
   "cell_type": "code",
   "execution_count": 11,
   "metadata": {},
   "outputs": [
    {
     "data": {
      "text/plain": [
       "[(3.467750847406967, 'The Night Listener'),\n",
       " (2.8325499182641614, 'Taxi Driver'),\n",
       " (2.5309807037655645, 'Kings man')]"
      ]
     },
     "execution_count": 11,
     "metadata": {},
     "output_type": "execute_result"
    }
   ],
   "source": [
    "getRecommendation(critics, 'H')"
   ]
  },
  {
   "cell_type": "code",
   "execution_count": null,
   "metadata": {
    "collapsed": true
   },
   "outputs": [],
   "source": []
  }
 ],
 "metadata": {
  "kernelspec": {
   "display_name": "Python 3",
   "language": "python",
   "name": "python3"
  },
  "language_info": {
   "codemirror_mode": {
    "name": "ipython",
    "version": 3
   },
   "file_extension": ".py",
   "mimetype": "text/x-python",
   "name": "python",
   "nbconvert_exporter": "python",
   "pygments_lexer": "ipython3",
   "version": "3.6.1"
  }
 },
 "nbformat": 4,
 "nbformat_minor": 2
}
